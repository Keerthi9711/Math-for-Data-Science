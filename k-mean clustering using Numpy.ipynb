{
 "cells": [
  {
   "cell_type": "markdown",
   "metadata": {},
   "source": [
    "# 1. Implementation of k-mean clustering analysis using Python numpy library\n",
    "\n",
    "- With the uploaded dataset, implementing and performing k-mean clustering analysis using Python numpy library\n"
   ]
  },
  {
   "cell_type": "markdown",
   "metadata": {},
   "source": [
    "# 2. Abstract of the Project\n",
    "\n",
    "- The goal is to find clusters such that the observations within each cluster are quite similar to each other, while observations in different clusters are quite different from each other.\n",
    "- Being a clustering algorithm, k-Means takes data points as input and groups them into k clusters. This process of grouping is the training phase of the learning algorithm. \n",
    "- The result would be a model that takes a data sample as input and returns the cluster that the new data point belongs to, according the training that the model went through. \n",
    "    - Basic data analysis is performed as a Smoke test for the quality of data, to handle null values or non-categorical datatypes for our use case.\n",
    "    - Given data is divided into training data and test data.\n",
    "    - Using k-means algorithm, model is trained with the training set of the input data.\n",
    "    - Optimization techniques like Elbow rule, Silhouette coefficient are used to find the optimal k value.\n",
    "    - Finally the prediciton level of the model is found out using the test data with optimal clusters."
   ]
  },
  {
   "cell_type": "markdown",
   "metadata": {},
   "source": [
    "# 3. Theory\n",
    "\n",
    "- Unsupervised learning is where you only have input data (X) and no corresponding output variables.\n",
    "\n",
    "- The goal for unsupervised learning is to model the underlying structure or distribution in the data in order to learn more about the data.\n",
    "\n",
    "- These are called unsupervised learning because unlike supervised learning above there is no correct answers and there is no teacher. Algorithms are left to their own devises to discover and present the interesting structure in the data.\n",
    "\n",
    "- Unsupervised learning problems can be further grouped into clustering and association problems.\n",
    "\n",
    "    - Clustering: A clustering problem is where you want to discover the inherent groupings in the data, such as grouping             customers by purchasing behavior.\n",
    "    - Association:  An association rule learning problem is where you want to discover rules that describe large portions of           your data, such as people that buy X also tend to buy Y.\n",
    "    \n",
    "- Some popular examples of unsupervised learning algorithms are:\n",
    "\n",
    "    - k-means for clustering problems.\n",
    "    - Apriori algorithm for association rule learning problems.\n",
    "    \n",
    "- Clustering is a form of unsupervised learning because we’re simply attempting to find structure within a dataset rather than predicting the value of some response variable.\n",
    "- the process of performing k-means is simple.\n",
    "\n",
    "\n",
    "                          Assign initial values for each u (from u=1 till u=k);\n",
    "                          Repeat {\n",
    "                                   Assign each point in the input data to the u that is closest to it in value;\n",
    "                          Calculate the new mean for each u;\n",
    "                          if all u values are unchanged { break out of loop; }\n",
    "                                  }\n",
    "                                  \n",
    "                                  \n",
    "- First, we initialize k points, called means, randomly.\n",
    "- We categorize each item to its closest mean and we update the mean’s coordinates, which are the averages of the items           categorized in that mean so far.\n",
    "- We repeat the process for a given number of iterations and at the end, we have our clusters.\n",
    "\n",
    "# K-means value optimization\n",
    "\n",
    "- Using Elbow rule and Silhouette coefficient\n"
   ]
  },
  {
   "cell_type": "markdown",
   "metadata": {},
   "source": [
    "# Importing required packages for the project"
   ]
  },
  {
   "cell_type": "code",
   "execution_count": 16,
   "metadata": {},
   "outputs": [],
   "source": [
    "import pandas as pd\n",
    "import numpy as np\n",
    "import matplotlib.pyplot as plt\n",
    "import seaborn as sns"
   ]
  },
  {
   "cell_type": "markdown",
   "metadata": {},
   "source": [
    "# Reading data into pandas dataframe"
   ]
  },
  {
   "cell_type": "code",
   "execution_count": 9,
   "metadata": {},
   "outputs": [],
   "source": [
    "data = pd.read_csv(\"C:\\\\Users\\\\Hello\\\\Downloads\\\\DSCI6001_prj2_data.csv\")"
   ]
  },
  {
   "cell_type": "markdown",
   "metadata": {},
   "source": [
    "# Data snapshot using head()"
   ]
  },
  {
   "cell_type": "code",
   "execution_count": 10,
   "metadata": {},
   "outputs": [
    {
     "data": {
      "text/html": [
       "<div>\n",
       "<style scoped>\n",
       "    .dataframe tbody tr th:only-of-type {\n",
       "        vertical-align: middle;\n",
       "    }\n",
       "\n",
       "    .dataframe tbody tr th {\n",
       "        vertical-align: top;\n",
       "    }\n",
       "\n",
       "    .dataframe thead th {\n",
       "        text-align: right;\n",
       "    }\n",
       "</style>\n",
       "<table border=\"1\" class=\"dataframe\">\n",
       "  <thead>\n",
       "    <tr style=\"text-align: right;\">\n",
       "      <th></th>\n",
       "      <th>Alcohol</th>\n",
       "      <th>Malic acid</th>\n",
       "      <th>Ash</th>\n",
       "      <th>Alcalinity of ash</th>\n",
       "      <th>Magnesium</th>\n",
       "      <th>Total phenols</th>\n",
       "      <th>Flavanoids</th>\n",
       "      <th>Nonflavanoid phenols</th>\n",
       "      <th>Proanthocyanins</th>\n",
       "      <th>Color intensity</th>\n",
       "      <th>Hue</th>\n",
       "      <th>OD280/OD315 of diluted wines</th>\n",
       "      <th>Proline</th>\n",
       "    </tr>\n",
       "  </thead>\n",
       "  <tbody>\n",
       "    <tr>\n",
       "      <th>0</th>\n",
       "      <td>14.23</td>\n",
       "      <td>1.71</td>\n",
       "      <td>2.43</td>\n",
       "      <td>15.6</td>\n",
       "      <td>127</td>\n",
       "      <td>2.80</td>\n",
       "      <td>3.06</td>\n",
       "      <td>0.28</td>\n",
       "      <td>2.29</td>\n",
       "      <td>5.64</td>\n",
       "      <td>1.04</td>\n",
       "      <td>3.92</td>\n",
       "      <td>1065</td>\n",
       "    </tr>\n",
       "    <tr>\n",
       "      <th>1</th>\n",
       "      <td>13.20</td>\n",
       "      <td>1.78</td>\n",
       "      <td>2.14</td>\n",
       "      <td>11.2</td>\n",
       "      <td>100</td>\n",
       "      <td>2.65</td>\n",
       "      <td>2.76</td>\n",
       "      <td>0.26</td>\n",
       "      <td>1.28</td>\n",
       "      <td>4.38</td>\n",
       "      <td>1.05</td>\n",
       "      <td>3.40</td>\n",
       "      <td>1050</td>\n",
       "    </tr>\n",
       "    <tr>\n",
       "      <th>2</th>\n",
       "      <td>13.16</td>\n",
       "      <td>2.36</td>\n",
       "      <td>2.67</td>\n",
       "      <td>18.6</td>\n",
       "      <td>101</td>\n",
       "      <td>2.80</td>\n",
       "      <td>3.24</td>\n",
       "      <td>0.30</td>\n",
       "      <td>2.81</td>\n",
       "      <td>5.68</td>\n",
       "      <td>1.03</td>\n",
       "      <td>3.17</td>\n",
       "      <td>1185</td>\n",
       "    </tr>\n",
       "    <tr>\n",
       "      <th>3</th>\n",
       "      <td>14.37</td>\n",
       "      <td>1.95</td>\n",
       "      <td>2.50</td>\n",
       "      <td>16.8</td>\n",
       "      <td>113</td>\n",
       "      <td>3.85</td>\n",
       "      <td>3.49</td>\n",
       "      <td>0.24</td>\n",
       "      <td>2.18</td>\n",
       "      <td>7.80</td>\n",
       "      <td>0.86</td>\n",
       "      <td>3.45</td>\n",
       "      <td>1480</td>\n",
       "    </tr>\n",
       "    <tr>\n",
       "      <th>4</th>\n",
       "      <td>13.24</td>\n",
       "      <td>2.59</td>\n",
       "      <td>2.87</td>\n",
       "      <td>21.0</td>\n",
       "      <td>118</td>\n",
       "      <td>2.80</td>\n",
       "      <td>2.69</td>\n",
       "      <td>0.39</td>\n",
       "      <td>1.82</td>\n",
       "      <td>4.32</td>\n",
       "      <td>1.04</td>\n",
       "      <td>2.93</td>\n",
       "      <td>735</td>\n",
       "    </tr>\n",
       "  </tbody>\n",
       "</table>\n",
       "</div>"
      ],
      "text/plain": [
       "   Alcohol  Malic acid   Ash  Alcalinity of ash  Magnesium  Total phenols  \\\n",
       "0    14.23        1.71  2.43               15.6        127           2.80   \n",
       "1    13.20        1.78  2.14               11.2        100           2.65   \n",
       "2    13.16        2.36  2.67               18.6        101           2.80   \n",
       "3    14.37        1.95  2.50               16.8        113           3.85   \n",
       "4    13.24        2.59  2.87               21.0        118           2.80   \n",
       "\n",
       "   Flavanoids  Nonflavanoid phenols  Proanthocyanins  Color intensity   Hue  \\\n",
       "0        3.06                  0.28             2.29             5.64  1.04   \n",
       "1        2.76                  0.26             1.28             4.38  1.05   \n",
       "2        3.24                  0.30             2.81             5.68  1.03   \n",
       "3        3.49                  0.24             2.18             7.80  0.86   \n",
       "4        2.69                  0.39             1.82             4.32  1.04   \n",
       "\n",
       "   OD280/OD315 of diluted wines  Proline  \n",
       "0                          3.92     1065  \n",
       "1                          3.40     1050  \n",
       "2                          3.17     1185  \n",
       "3                          3.45     1480  \n",
       "4                          2.93      735  "
      ]
     },
     "execution_count": 10,
     "metadata": {},
     "output_type": "execute_result"
    }
   ],
   "source": [
    "data.head()"
   ]
  },
  {
   "cell_type": "code",
   "execution_count": null,
   "metadata": {},
   "outputs": [],
   "source": []
  },
  {
   "cell_type": "markdown",
   "metadata": {},
   "source": [
    "# List of columns from the dataset"
   ]
  },
  {
   "cell_type": "code",
   "execution_count": 11,
   "metadata": {},
   "outputs": [
    {
     "data": {
      "text/plain": [
       "Index(['Alcohol', 'Malic acid', 'Ash', 'Alcalinity of ash', 'Magnesium',\n",
       "       'Total phenols', 'Flavanoids', 'Nonflavanoid phenols',\n",
       "       'Proanthocyanins', 'Color intensity', 'Hue',\n",
       "       'OD280/OD315 of diluted wines', 'Proline'],\n",
       "      dtype='object')"
      ]
     },
     "execution_count": 11,
     "metadata": {},
     "output_type": "execute_result"
    }
   ],
   "source": [
    "data.columns"
   ]
  },
  {
   "cell_type": "markdown",
   "metadata": {},
   "source": [
    "# Shape of the given dataset"
   ]
  },
  {
   "cell_type": "code",
   "execution_count": 12,
   "metadata": {},
   "outputs": [
    {
     "data": {
      "text/plain": [
       "(178, 13)"
      ]
     },
     "execution_count": 12,
     "metadata": {},
     "output_type": "execute_result"
    }
   ],
   "source": [
    "data.shape"
   ]
  },
  {
   "cell_type": "markdown",
   "metadata": {},
   "source": [
    "# Data testing to check if any null values"
   ]
  },
  {
   "cell_type": "code",
   "execution_count": 13,
   "metadata": {},
   "outputs": [
    {
     "data": {
      "text/plain": [
       "Alcohol                         0\n",
       "Malic acid                      0\n",
       "Ash                             0\n",
       "Alcalinity of ash               0\n",
       "Magnesium                       0\n",
       "Total phenols                   0\n",
       "Flavanoids                      0\n",
       "Nonflavanoid phenols            0\n",
       "Proanthocyanins                 0\n",
       "Color intensity                 0\n",
       "Hue                             0\n",
       "OD280/OD315 of diluted wines    0\n",
       "Proline                         0\n",
       "dtype: int64"
      ]
     },
     "execution_count": 13,
     "metadata": {},
     "output_type": "execute_result"
    }
   ],
   "source": [
    "data.isnull().sum()"
   ]
  },
  {
   "cell_type": "markdown",
   "metadata": {},
   "source": [
    "# Analysing data before clustering"
   ]
  },
  {
   "cell_type": "code",
   "execution_count": 17,
   "metadata": {},
   "outputs": [
    {
     "data": {
      "text/plain": [
       "<matplotlib.axes._subplots.AxesSubplot at 0x1fc7ef4ed68>"
      ]
     },
     "execution_count": 17,
     "metadata": {},
     "output_type": "execute_result"
    },
    {
     "data": {
      "image/png": "[encoded data removed]",
      "text/plain": [
       "<matplotlib.figure.Figure at 0x1fc7ef4e710>"
      ]
     },
     "metadata": {},
     "output_type": "display_data"
    }
   ],
   "source": [
    "sns.scatterplot(x=data['Total phenols'],y=data['Flavanoids'],color='red')"
   ]
  },
  {
   "cell_type": "markdown",
   "metadata": {},
   "source": [
    "# Exploring correlation between all the features of the data at hand"
   ]
  },
  {
   "cell_type": "code",
   "execution_count": 19,
   "metadata": {},
   "outputs": [],
   "source": [
    "heatmap = data.corr()"
   ]
  },
  {
   "cell_type": "code",
   "execution_count": 20,
   "metadata": {},
   "outputs": [
    {
     "data": {
      "text/html": [
       "<div>\n",
       "<style scoped>\n",
       "    .dataframe tbody tr th:only-of-type {\n",
       "        vertical-align: middle;\n",
       "    }\n",
       "\n",
       "    .dataframe tbody tr th {\n",
       "        vertical-align: top;\n",
       "    }\n",
       "\n",
       "    .dataframe thead th {\n",
       "        text-align: right;\n",
       "    }\n",
       "</style>\n",
       "<table border=\"1\" class=\"dataframe\">\n",
       "  <thead>\n",
       "    <tr style=\"text-align: right;\">\n",
       "      <th></th>\n",
       "      <th>Alcohol</th>\n",
       "      <th>Malic acid</th>\n",
       "      <th>Ash</th>\n",
       "      <th>Alcalinity of ash</th>\n",
       "      <th>Magnesium</th>\n",
       "      <th>Total phenols</th>\n",
       "      <th>Flavanoids</th>\n",
       "      <th>Nonflavanoid phenols</th>\n",
       "      <th>Proanthocyanins</th>\n",
       "      <th>Color intensity</th>\n",
       "      <th>Hue</th>\n",
       "      <th>OD280/OD315 of diluted wines</th>\n",
       "      <th>Proline</th>\n",
       "    </tr>\n",
       "  </thead>\n",
       "  <tbody>\n",
       "    <tr>\n",
       "      <th>Alcohol</th>\n",
       "      <td>1.000000</td>\n",
       "      <td>0.094397</td>\n",
       "      <td>0.211545</td>\n",
       "      <td>-0.310235</td>\n",
       "      <td>0.270798</td>\n",
       "      <td>0.289101</td>\n",
       "      <td>0.236815</td>\n",
       "      <td>-0.155929</td>\n",
       "      <td>0.136698</td>\n",
       "      <td>0.546364</td>\n",
       "      <td>-0.071747</td>\n",
       "      <td>0.072343</td>\n",
       "      <td>0.643720</td>\n",
       "    </tr>\n",
       "    <tr>\n",
       "      <th>Malic acid</th>\n",
       "      <td>0.094397</td>\n",
       "      <td>1.000000</td>\n",
       "      <td>0.164045</td>\n",
       "      <td>0.288500</td>\n",
       "      <td>-0.054575</td>\n",
       "      <td>-0.335167</td>\n",
       "      <td>-0.411007</td>\n",
       "      <td>0.292977</td>\n",
       "      <td>-0.220746</td>\n",
       "      <td>0.248985</td>\n",
       "      <td>-0.561296</td>\n",
       "      <td>-0.368710</td>\n",
       "      <td>-0.192011</td>\n",
       "    </tr>\n",
       "    <tr>\n",
       "      <th>Ash</th>\n",
       "      <td>0.211545</td>\n",
       "      <td>0.164045</td>\n",
       "      <td>1.000000</td>\n",
       "      <td>0.443367</td>\n",
       "      <td>0.286587</td>\n",
       "      <td>0.128980</td>\n",
       "      <td>0.115077</td>\n",
       "      <td>0.186230</td>\n",
       "      <td>0.009652</td>\n",
       "      <td>0.258887</td>\n",
       "      <td>-0.074667</td>\n",
       "      <td>0.003911</td>\n",
       "      <td>0.223626</td>\n",
       "    </tr>\n",
       "    <tr>\n",
       "      <th>Alcalinity of ash</th>\n",
       "      <td>-0.310235</td>\n",
       "      <td>0.288500</td>\n",
       "      <td>0.443367</td>\n",
       "      <td>1.000000</td>\n",
       "      <td>-0.083333</td>\n",
       "      <td>-0.321113</td>\n",
       "      <td>-0.351370</td>\n",
       "      <td>0.361922</td>\n",
       "      <td>-0.197327</td>\n",
       "      <td>0.018732</td>\n",
       "      <td>-0.273955</td>\n",
       "      <td>-0.276769</td>\n",
       "      <td>-0.440597</td>\n",
       "    </tr>\n",
       "    <tr>\n",
       "      <th>Magnesium</th>\n",
       "      <td>0.270798</td>\n",
       "      <td>-0.054575</td>\n",
       "      <td>0.286587</td>\n",
       "      <td>-0.083333</td>\n",
       "      <td>1.000000</td>\n",
       "      <td>0.214401</td>\n",
       "      <td>0.195784</td>\n",
       "      <td>-0.256294</td>\n",
       "      <td>0.236441</td>\n",
       "      <td>0.199950</td>\n",
       "      <td>0.055398</td>\n",
       "      <td>0.066004</td>\n",
       "      <td>0.393351</td>\n",
       "    </tr>\n",
       "    <tr>\n",
       "      <th>Total phenols</th>\n",
       "      <td>0.289101</td>\n",
       "      <td>-0.335167</td>\n",
       "      <td>0.128980</td>\n",
       "      <td>-0.321113</td>\n",
       "      <td>0.214401</td>\n",
       "      <td>1.000000</td>\n",
       "      <td>0.864564</td>\n",
       "      <td>-0.449935</td>\n",
       "      <td>0.612413</td>\n",
       "      <td>-0.055136</td>\n",
       "      <td>0.433681</td>\n",
       "      <td>0.699949</td>\n",
       "      <td>0.498115</td>\n",
       "    </tr>\n",
       "    <tr>\n",
       "      <th>Flavanoids</th>\n",
       "      <td>0.236815</td>\n",
       "      <td>-0.411007</td>\n",
       "      <td>0.115077</td>\n",
       "      <td>-0.351370</td>\n",
       "      <td>0.195784</td>\n",
       "      <td>0.864564</td>\n",
       "      <td>1.000000</td>\n",
       "      <td>-0.537900</td>\n",
       "      <td>0.652692</td>\n",
       "      <td>-0.172379</td>\n",
       "      <td>0.543479</td>\n",
       "      <td>0.787194</td>\n",
       "      <td>0.494193</td>\n",
       "    </tr>\n",
       "    <tr>\n",
       "      <th>Nonflavanoid phenols</th>\n",
       "      <td>-0.155929</td>\n",
       "      <td>0.292977</td>\n",
       "      <td>0.186230</td>\n",
       "      <td>0.361922</td>\n",
       "      <td>-0.256294</td>\n",
       "      <td>-0.449935</td>\n",
       "      <td>-0.537900</td>\n",
       "      <td>1.000000</td>\n",
       "      <td>-0.365845</td>\n",
       "      <td>0.139057</td>\n",
       "      <td>-0.262640</td>\n",
       "      <td>-0.503270</td>\n",
       "      <td>-0.311385</td>\n",
       "    </tr>\n",
       "    <tr>\n",
       "      <th>Proanthocyanins</th>\n",
       "      <td>0.136698</td>\n",
       "      <td>-0.220746</td>\n",
       "      <td>0.009652</td>\n",
       "      <td>-0.197327</td>\n",
       "      <td>0.236441</td>\n",
       "      <td>0.612413</td>\n",
       "      <td>0.652692</td>\n",
       "      <td>-0.365845</td>\n",
       "      <td>1.000000</td>\n",
       "      <td>-0.025250</td>\n",
       "      <td>0.295544</td>\n",
       "      <td>0.519067</td>\n",
       "      <td>0.330417</td>\n",
       "    </tr>\n",
       "    <tr>\n",
       "      <th>Color intensity</th>\n",
       "      <td>0.546364</td>\n",
       "      <td>0.248985</td>\n",
       "      <td>0.258887</td>\n",
       "      <td>0.018732</td>\n",
       "      <td>0.199950</td>\n",
       "      <td>-0.055136</td>\n",
       "      <td>-0.172379</td>\n",
       "      <td>0.139057</td>\n",
       "      <td>-0.025250</td>\n",
       "      <td>1.000000</td>\n",
       "      <td>-0.521813</td>\n",
       "      <td>-0.428815</td>\n",
       "      <td>0.316100</td>\n",
       "    </tr>\n",
       "    <tr>\n",
       "      <th>Hue</th>\n",
       "      <td>-0.071747</td>\n",
       "      <td>-0.561296</td>\n",
       "      <td>-0.074667</td>\n",
       "      <td>-0.273955</td>\n",
       "      <td>0.055398</td>\n",
       "      <td>0.433681</td>\n",
       "      <td>0.543479</td>\n",
       "      <td>-0.262640</td>\n",
       "      <td>0.295544</td>\n",
       "      <td>-0.521813</td>\n",
       "      <td>1.000000</td>\n",
       "      <td>0.565468</td>\n",
       "      <td>0.236183</td>\n",
       "    </tr>\n",
       "    <tr>\n",
       "      <th>OD280/OD315 of diluted wines</th>\n",
       "      <td>0.072343</td>\n",
       "      <td>-0.368710</td>\n",
       "      <td>0.003911</td>\n",
       "      <td>-0.276769</td>\n",
       "      <td>0.066004</td>\n",
       "      <td>0.699949</td>\n",
       "      <td>0.787194</td>\n",
       "      <td>-0.503270</td>\n",
       "      <td>0.519067</td>\n",
       "      <td>-0.428815</td>\n",
       "      <td>0.565468</td>\n",
       "      <td>1.000000</td>\n",
       "      <td>0.312761</td>\n",
       "    </tr>\n",
       "    <tr>\n",
       "      <th>Proline</th>\n",
       "      <td>0.643720</td>\n",
       "      <td>-0.192011</td>\n",
       "      <td>0.223626</td>\n",
       "      <td>-0.440597</td>\n",
       "      <td>0.393351</td>\n",
       "      <td>0.498115</td>\n",
       "      <td>0.494193</td>\n",
       "      <td>-0.311385</td>\n",
       "      <td>0.330417</td>\n",
       "      <td>0.316100</td>\n",
       "      <td>0.236183</td>\n",
       "      <td>0.312761</td>\n",
       "      <td>1.000000</td>\n",
       "    </tr>\n",
       "  </tbody>\n",
       "</table>\n",
       "</div>"
      ],
      "text/plain": [
       "                               Alcohol  Malic acid       Ash  \\\n",
       "Alcohol                       1.000000    0.094397  0.211545   \n",
       "Malic acid                    0.094397    1.000000  0.164045   \n",
       "Ash                           0.211545    0.164045  1.000000   \n",
       "Alcalinity of ash            -0.310235    0.288500  0.443367   \n",
       "Magnesium                     0.270798   -0.054575  0.286587   \n",
       "Total phenols                 0.289101   -0.335167  0.128980   \n",
       "Flavanoids                    0.236815   -0.411007  0.115077   \n",
       "Nonflavanoid phenols         -0.155929    0.292977  0.186230   \n",
       "Proanthocyanins               0.136698   -0.220746  0.009652   \n",
       "Color intensity               0.546364    0.248985  0.258887   \n",
       "Hue                          -0.071747   -0.561296 -0.074667   \n",
       "OD280/OD315 of diluted wines  0.072343   -0.368710  0.003911   \n",
       "Proline                       0.643720   -0.192011  0.223626   \n",
       "\n",
       "                              Alcalinity of ash  Magnesium  Total phenols  \\\n",
       "Alcohol                               -0.310235   0.270798       0.289101   \n",
       "Malic acid                             0.288500  -0.054575      -0.335167   \n",
       "Ash                                    0.443367   0.286587       0.128980   \n",
       "Alcalinity of ash                      1.000000  -0.083333      -0.321113   \n",
       "Magnesium                             -0.083333   1.000000       0.214401   \n",
       "Total phenols                         -0.321113   0.214401       1.000000   \n",
       "Flavanoids                            -0.351370   0.195784       0.864564   \n",
       "Nonflavanoid phenols                   0.361922  -0.256294      -0.449935   \n",
       "Proanthocyanins                       -0.197327   0.236441       0.612413   \n",
       "Color intensity                        0.018732   0.199950      -0.055136   \n",
       "Hue                                   -0.273955   0.055398       0.433681   \n",
       "OD280/OD315 of diluted wines          -0.276769   0.066004       0.699949   \n",
       "Proline                               -0.440597   0.393351       0.498115   \n",
       "\n",
       "                              Flavanoids  Nonflavanoid phenols  \\\n",
       "Alcohol                         0.236815             -0.155929   \n",
       "Malic acid                     -0.411007              0.292977   \n",
       "Ash                             0.115077              0.186230   \n",
       "Alcalinity of ash              -0.351370              0.361922   \n",
       "Magnesium                       0.195784             -0.256294   \n",
       "Total phenols                   0.864564             -0.449935   \n",
       "Flavanoids                      1.000000             -0.537900   \n",
       "Nonflavanoid phenols           -0.537900              1.000000   \n",
       "Proanthocyanins                 0.652692             -0.365845   \n",
       "Color intensity                -0.172379              0.139057   \n",
       "Hue                             0.543479             -0.262640   \n",
       "OD280/OD315 of diluted wines    0.787194             -0.503270   \n",
       "Proline                         0.494193             -0.311385   \n",
       "\n",
       "                              Proanthocyanins  Color intensity       Hue  \\\n",
       "Alcohol                              0.136698         0.546364 -0.071747   \n",
       "Malic acid                          -0.220746         0.248985 -0.561296   \n",
       "Ash                                  0.009652         0.258887 -0.074667   \n",
       "Alcalinity of ash                   -0.197327         0.018732 -0.273955   \n",
       "Magnesium                            0.236441         0.199950  0.055398   \n",
       "Total phenols                        0.612413        -0.055136  0.433681   \n",
       "Flavanoids                           0.652692        -0.172379  0.543479   \n",
       "Nonflavanoid phenols                -0.365845         0.139057 -0.262640   \n",
       "Proanthocyanins                      1.000000        -0.025250  0.295544   \n",
       "Color intensity                     -0.025250         1.000000 -0.521813   \n",
       "Hue                                  0.295544        -0.521813  1.000000   \n",
       "OD280/OD315 of diluted wines         0.519067        -0.428815  0.565468   \n",
       "Proline                              0.330417         0.316100  0.236183   \n",
       "\n",
       "                              OD280/OD315 of diluted wines   Proline  \n",
       "Alcohol                                           0.072343  0.643720  \n",
       "Malic acid                                       -0.368710 -0.192011  \n",
       "Ash                                               0.003911  0.223626  \n",
       "Alcalinity of ash                                -0.276769 -0.440597  \n",
       "Magnesium                                         0.066004  0.393351  \n",
       "Total phenols                                     0.699949  0.498115  \n",
       "Flavanoids                                        0.787194  0.494193  \n",
       "Nonflavanoid phenols                             -0.503270 -0.311385  \n",
       "Proanthocyanins                                   0.519067  0.330417  \n",
       "Color intensity                                  -0.428815  0.316100  \n",
       "Hue                                               0.565468  0.236183  \n",
       "OD280/OD315 of diluted wines                      1.000000  0.312761  \n",
       "Proline                                           0.312761  1.000000  "
      ]
     },
     "execution_count": 20,
     "metadata": {},
     "output_type": "execute_result"
    }
   ],
   "source": [
    "heatmap"
   ]
  },
  {
   "cell_type": "code",
   "execution_count": 21,
   "metadata": {},
   "outputs": [
    {
     "data": {
      "text/plain": [
       "<matplotlib.axes._subplots.AxesSubplot at 0x1fc7fdc5b38>"
      ]
     },
     "execution_count": 21,
     "metadata": {},
     "output_type": "execute_result"
    },
    {
     "data": {
      "image/png": "[encoded data removed]",
      "text/plain": [
       "<matplotlib.figure.Figure at 0x1fc7fdb9eb8>"
      ]
     },
     "metadata": {},
     "output_type": "display_data"
    }
   ],
   "source": [
    "import seaborn as sns\n",
    "f, ax = plt.subplots(figsize=(9, 6))\n",
    "sns.heatmap(heatmap,annot=True)"
   ]
  },
  {
   "cell_type": "markdown",
   "metadata": {},
   "source": [
    "# Observations from the above heatmap\n",
    "    - Plotting the correlation between all the given features, Total Phenols and Flavanoids have the strongest(0.86) positive correlation.\n",
    "    - Making these two as the main features to cluster the whole datapoints."
   ]
  },
  {
   "cell_type": "markdown",
   "metadata": {},
   "source": [
    "# Performing K-Means clustering with random k-value as 3"
   ]
  },
  {
   "cell_type": "code",
   "execution_count": 132,
   "metadata": {},
   "outputs": [],
   "source": [
    "class K_Means:\n",
    "    def __init__(self, k =3, tolerance = 0.0001, max_iterations = 200):\n",
    "        self.k = k\n",
    "        self.tolerance = tolerance\n",
    "        self.max_iterations = max_iterations\n",
    "\n",
    "    def fit(self, data):\n",
    "\n",
    "        self.centroids = {}\n",
    "        #initialize the centroids, the first 'k' elements in the dataset will be our initial centroids\n",
    "        for i in range(self.k):\n",
    "            self.centroids[i] = data[i]\n",
    "\n",
    "        #begin iterations\n",
    "        for i in range(self.max_iterations):\n",
    "            self.classes = {}\n",
    "            for i in range(self.k):\n",
    "                self.classes[i] = []\n",
    "\n",
    "        #find the distance between the point and cluster; choose the nearest centroid\n",
    "            for features in data:\n",
    "                distances = [np.linalg.norm(features - self.centroids[centroid]) for centroid in self.centroids]\n",
    "                classification = distances.index(min(distances))\n",
    "                self.classes[classification].append(features)\n",
    "            previous = dict(self.centroids)\n",
    "           \n",
    "            #average the cluster datapoints to re-calculate the centroids\n",
    "            for classification in self.classes:\n",
    "                self.centroids[classification] = np.average(self.classes[classification], axis = 0)\n",
    "            isOptimal = True\n",
    "            \n",
    "            for centroid in self.centroids:\n",
    "                original_centroid = previous[centroid]\n",
    "                curr = self.centroids[centroid]\n",
    "\n",
    "                if np.sum((curr - original_centroid)/original_centroid * 100.0) > self.tolerance:\n",
    "                    isOptimal = False\n",
    "                #break out of the main loop if the results are optimal, ie. the centroids don't change their positions much(more than our tolerance)\n",
    "            if isOptimal:\n",
    "                break\n",
    "\n",
    "    def pred(self, data):\n",
    "        distances = [np.linalg.norm(data - self.centroids[centroid]) for centroid in self.centroids]\n",
    "        classification = distances.index(min(distances))\n",
    "        return classification\n",
    "#print(classification)\n"
   ]
  },
  {
   "cell_type": "markdown",
   "metadata": {},
   "source": [
    "# Visualising using scatter plot for the features along with the clusters and their centroids"
   ]
  },
  {
   "cell_type": "code",
   "execution_count": 125,
   "metadata": {},
   "outputs": [
    {
     "data": {
      "image/png": "[encoded data removed]",
      "text/plain": [
       "<matplotlib.figure.Figure at 0x215df064ef0>"
      ]
     },
     "metadata": {},
     "output_type": "display_data"
    }
   ],
   "source": [
    "def main():\n",
    "\n",
    "    df = pd.read_csv(\"C:\\\\Users\\\\Hello\\\\Downloads\\\\DSCI6001_prj2_data.csv\")\n",
    "    df = df[['Total phenols', 'Flavanoids']]\n",
    "    dataset = df.astype(float).values.tolist()\n",
    "\n",
    "    X = df.values #returns a numpy array\n",
    "\n",
    "    km = K_Means(3)\n",
    "    km.fit(X)\n",
    "\n",
    "    # Plotting starts here\n",
    "    colors = 10*[\"r\", \"g\", \"c\", \"b\", \"k\"]\n",
    "\n",
    "    for centroid in km.centroids:\n",
    "        plt.scatter(km.centroids[centroid][0], km.centroids[centroid][1], s = 150, marker = \"o\",c=\"black\")\n",
    "\n",
    "    for classification in km.classes:\n",
    "        color = colors[classification]\n",
    "        for features in km.classes[classification]:\n",
    "            plt.scatter(features[0], features[1], color = color,s = 25)\n",
    "\n",
    "    plt.show()\n",
    "if __name__ == \"__main__\":\n",
    "    main()\n"
   ]
  },
  {
   "cell_type": "markdown",
   "metadata": {},
   "source": [
    "# Elbow method to find optimal k value"
   ]
  },
  {
   "cell_type": "code",
   "execution_count": 42,
   "metadata": {},
   "outputs": [
    {
     "name": "stdout",
     "output_type": "stream",
     "text": [
      "The Within cluster sum of squares for 1 and the cluster is 245.92525280898883\n",
      "The Within cluster sum of squares for 2 and the cluster is 67.47656579380138\n",
      "The Within cluster sum of squares for 3 and the cluster is 42.078666444746915\n",
      "The Within cluster sum of squares for 4 and the cluster is 29.5078142340347\n",
      "The Within cluster sum of squares for 5 and the cluster is 23.56288428711123\n",
      "The Within cluster sum of squares for 6 and the cluster is 22.35318659057554\n",
      "The Within cluster sum of squares for 7 and the cluster is 18.650711121351765\n",
      "The Within cluster sum of squares for 8 and the cluster is 17.45894518720291\n",
      "The Within cluster sum of squares for 9 and the cluster is 15.121947976241415\n"
     ]
    }
   ],
   "source": [
    "within_cluster_ss = []\n",
    "for x in range(1,10):\n",
    "    np.random.seed(420)\n",
    "    dist = dist0 = dist1 = dist2 = 0\n",
    "    centroids = data.sample(n=x)\n",
    "    Mean_diff = 1\n",
    "    j=0\n",
    "\n",
    "    while(Mean_diff!=0):\n",
    "        i=1\n",
    "        for index1,row_c in centroids.iterrows():\n",
    "            Euclidean_dist=[]\n",
    "            for index2,row_d in data.iterrows():\n",
    "                dist1=(row_c[\"Flavanoids\"]-row_d[\"Flavanoids\"])**2\n",
    "                dist2=(row_c[\"Total phenols\"]-row_d[\"Total phenols\"])**2\n",
    "                dist0=np.sqrt(dist1+dist2)\n",
    "                Euclidean_dist.append(dist0)\n",
    "            data[i]=Euclidean_dist\n",
    "            i=i+1\n",
    "    \n",
    "   \n",
    "        Cluster=[]\n",
    "        for index,row in data.iterrows():\n",
    "            min_dist=row[1]\n",
    "            pos=1\n",
    "            for i in range(x):\n",
    "                if row[i+1] < min_dist:\n",
    "                    min_dist = row[i+1]\n",
    "                    pos=i+1\n",
    "            Cluster.append(pos)\n",
    "        data[\"Cluster\"]=Cluster\n",
    "    \n",
    "        centroids_new = data.groupby([\"Cluster\"]).mean()[[\"Total phenols\",\"Flavanoids\"]]\n",
    "    \n",
    "        if j == 0:\n",
    "            diff=1\n",
    "            j=j+1\n",
    "        else:\n",
    "            Mean_diff = (centroids_new['Total phenols'] - centroids['Total phenols']).sum() + (centroids_new['Flavanoids'] - centroids['Flavanoids']).sum()\n",
    "        centroids = data.groupby([\"Cluster\"]).mean()[[\"Total phenols\",\"Flavanoids\"]]\n",
    "  \n",
    "    # to find within cluster sum of squares\n",
    "    for m in range(x):\n",
    "        data1 =data[data[\"Cluster\"]==m+1]\n",
    "        dist3=dist4=dist5=dist6=0\n",
    "        for index1,row_c in centroids.iterrows():\n",
    "            if index1 == m+1:\n",
    "                for index2,row_d in data1.iterrows():\n",
    "                    dist3=(row_c[\"Flavanoids\"]-row_d[\"Flavanoids\"])**2\n",
    "                    dist4=(row_c[\"Total phenols\"]-row_d[\"Total phenols\"])**2\n",
    "                    dist5= dist3 + dist4\n",
    "                    dist6= dist6 + dist5\n",
    "        dist = dist + dist6 \n",
    "    within_cluster_ss.append(dist)    \n",
    "    print(\"The Within cluster sum of squares for {} and the cluster is {}\".format(x,dist))"
   ]
  },
  {
   "cell_type": "markdown",
   "metadata": {},
   "source": [
    "# Plotting the graph to show the elbow point which decides the optimal k value"
   ]
  },
  {
   "cell_type": "code",
   "execution_count": 45,
   "metadata": {},
   "outputs": [
    {
     "data": {
      "text/plain": [
       "Text(0,0.5,'within cluster sum of squares')"
      ]
     },
     "execution_count": 45,
     "metadata": {},
     "output_type": "execute_result"
    },
    {
     "data": {
      "image/png": "[encoded data removed]",
      "text/plain": [
       "<matplotlib.figure.Figure at 0x1fc039264e0>"
      ]
     },
     "metadata": {},
     "output_type": "display_data"
    }
   ],
   "source": [
    "plt.plot(range(1,10),within_cluster_ss)\n",
    "plt.xlabel('No of clusters')\n",
    "plt.ylabel('within cluster sum of squares')"
   ]
  },
  {
   "cell_type": "markdown",
   "metadata": {},
   "source": [
    "# With looking at the above elbow rule for K-Means, optimal value for k is 3.\n",
    "    - Cluster 3 is showing the min difference in the mean"
   ]
  },
  {
   "cell_type": "markdown",
   "metadata": {},
   "source": [
    "# Conclusion\n",
    "\n",
    "- For the given dataset with 13 features, we have found the correlation matrix and two features have shown high posive correlation-Total phenols and Flavanoids(0.86)\n",
    "- Taking into consideration these two features, we have assumed the random k value as 3 and ran the k means algorithm for these two features which closely represent the entire dataset.\n",
    "- The scatter plot shows the closely formed clusters with three centroids.\n",
    "- We then used the optimatization technique, the elbow rule, to find the optimal k value for the given dataset, which gave us the value of k=3.\n",
    "- Hence, for the given dataset, optimal way is to classify them into three clusters which group them according to their similarities."
   ]
  }
 ],
 "metadata": {
  "kernelspec": {
   "display_name": "Python 3",
   "language": "python",
   "name": "python3"
  },
  "language_info": {
   "codemirror_mode": {
    "name": "ipython",
    "version": 3
   },
   "file_extension": ".py",
   "mimetype": "text/x-python",
   "name": "python",
   "nbconvert_exporter": "python",
   "pygments_lexer": "ipython3",
   "version": "3.6.4"
  }
 },
 "nbformat": 4,
 "nbformat_minor": 2
}
